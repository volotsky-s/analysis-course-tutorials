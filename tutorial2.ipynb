{
  "nbformat": 4,
  "nbformat_minor": 0,
  "metadata": {
    "colab": {
      "provenance": []
    },
    "kernelspec": {
      "name": "python3",
      "display_name": "Python 3"
    },
    "language_info": {
      "name": "python"
    }
  },
  "cells": [
    {
      "cell_type": "markdown",
      "source": [
        "# Tutorial 2\n",
        "\n",
        "Tutorial outline and important points\n",
        "\n",
        "Running the code: \n",
        " full block - press arrow or ctrl+enter or \n",
        " separate lines - highlight and ctrl+shift+enter\n",
        "\n",
        "To see variables press on {x}. Press on variable name to see its content\n",
        "\n",
        "\n",
        "\n",
        "1. import Numpy and more examples\n",
        "\n",
        "2. upload file from PC or drive\n",
        "3. upload file from site with url\n"
      ],
      "metadata": {
        "id": "mKQDDsLOvmLx"
      }
    },
    {
      "cell_type": "code",
      "source": [
        "# import packages\n",
        "\n",
        "import numpy as np # arrays, array operations\n"
      ],
      "metadata": {
        "id": "XGeEw5qXOPo2"
      },
      "execution_count": 2,
      "outputs": []
    },
    {
      "cell_type": "code",
      "source": [
        "# create vector using functions\n",
        "vec1 = np.arange(0, 20) # (start, stop-1, step=1)\n",
        "print(vec1)\n",
        "\n",
        "vec2 = np.arange(0, 20, step=10) # (start, stop-1, step)\n",
        "print(vec2)\n",
        "\n",
        "vec3 = np.arange(0, 21, step=10) # (start, stop-1, step)\n",
        "print(vec3)\n",
        "\n",
        "vec4 = np.arange(1, 21, step=10) # (start, stop-1, step)\n",
        "print(vec4)\n",
        "\n",
        "vec5 = np.linspace(0, 20, 6) # (start, stop, length)\n",
        "print(vec5)\n",
        "\n",
        "vec6 = np.linspace(1, 21, 20) # (start, stop, length)\n",
        "print(vec6)\n",
        "\n",
        "randvec1, randvec2 = np.random.rand(3), np.random.randint(1, 20, 3)\n",
        "\n",
        "print(randvec1) # between 0 and 1\n",
        "\n",
        "print(randvec2) # integers between 10 and 20"
      ],
      "metadata": {
        "colab": {
          "base_uri": "https://localhost:8080/"
        },
        "id": "Ia1hFkFHm06M",
        "outputId": "4564d40b-ef52-4bb3-da01-69a10dbbd58f"
      },
      "execution_count": 9,
      "outputs": [
        {
          "output_type": "stream",
          "name": "stdout",
          "text": [
            "[ 0  1  2  3  4  5  6  7  8  9 10 11 12 13 14 15 16 17 18 19]\n",
            "[ 0 10]\n",
            "[ 0 10 20]\n",
            "[ 1 11]\n",
            "[ 0.  4.  8. 12. 16. 20.]\n",
            "[ 1.          2.05263158  3.10526316  4.15789474  5.21052632  6.26315789\n",
            "  7.31578947  8.36842105  9.42105263 10.47368421 11.52631579 12.57894737\n",
            " 13.63157895 14.68421053 15.73684211 16.78947368 17.84210526 18.89473684\n",
            " 19.94736842 21.        ]\n",
            "[0.16335836 0.04826793 0.07526369]\n",
            "[8 8 2]\n"
          ]
        }
      ]
    },
    {
      "cell_type": "code",
      "source": [
        "# del mat1, mat2 # delete separate variables\n",
        "\n",
        "# loop to delete all variables\n",
        "for name in dir():\n",
        "    if not name.startswith('_'):\n",
        "        del globals()[name]\n"
      ],
      "metadata": {
        "id": "ElxmTQB21mA5"
      },
      "execution_count": 4,
      "outputs": []
    },
    {
      "cell_type": "markdown",
      "source": [
        "Simulation of population and sampling\n"
      ],
      "metadata": {
        "id": "zi4nQ0sIfzMo"
      }
    },
    {
      "cell_type": "code",
      "source": [
        "# import packages\n",
        "\n",
        "import numpy as np # arrays, array operations\n",
        "import pandas as pd # working with data structures\n",
        "import scipy.stats as stats\n",
        "import io # import/output files\n",
        "from google.colab import files\n",
        "import matplotlib.pyplot as plt # plot graphs"
      ],
      "metadata": {
        "id": "WrflOth0PckM"
      },
      "execution_count": 1,
      "outputs": []
    },
    {
      "cell_type": "code",
      "source": [
        "# generate population - normal\n",
        "\n",
        "population = np.random.normal(100,10,size = (1000000,1))\n",
        "population_mean = np.mean(population)\n",
        "population_sd = np.std(population)\n",
        "\n",
        "plt.hist(population, bins = 1000, label = 'values')\n",
        "plt.plot([population_mean, population_mean] , [0, 4000], color = 'lime', linewidth = 4,\n",
        "           label = 'population mean = '+ str(round(population_mean,2)))\n",
        "\n",
        "plt.title('Population. N(mu='+str(round(population_mean,2))+' , sd = '+str(round(population_sd,2))+')', fontsize = 14) \n",
        "plt.xlabel('Values')\n",
        "plt.ylabel('Count')\n",
        "plt.legend(loc = 'upper left')\n",
        "plt.show()\n",
        "\n",
        "#plt.savefig(\"Population.png\", bbox_inches='tight')\n",
        "#files.download(\"Population.png\") "
      ],
      "metadata": {
        "colab": {
          "base_uri": "https://localhost:8080/",
          "height": 296
        },
        "id": "-M6vzgMSfgpj",
        "outputId": "dd0729b7-0fbb-4ead-8bbe-8b5803cfa711"
      },
      "execution_count": 86,
      "outputs": [
        {
          "output_type": "display_data",
          "data": {
            "text/plain": [
              "<Figure size 432x288 with 1 Axes>"
            ],
            "image/png": "[encoded data removed]"
          },
          "metadata": {
            "needs_background": "light"
          }
        }
      ]
    },
    {
      "cell_type": "code",
      "source": [
        "# plot with distribution\n",
        "\n",
        "plt.hist(population, bins = 1000,density = True, label = 'values')\n",
        "\n",
        "pdf = stats.norm.pdf(np.linspace(50, 150, 100), population_mean, population_sd)\n",
        "plt.plot(np.linspace(50, 150, 100), pdf, color = 'red', lw = 3,\n",
        "         label = 'normal distribution fit')\n",
        "\n",
        "plt.title('Population. N(mu='+str(round(population_mean,2))+' , sd = '+str(round(population_sd,2))+')', fontsize = 14) \n",
        "plt.xlabel('Values')\n",
        "plt.ylabel('Density')\n",
        "plt.legend(loc = 'upper left')\n",
        "\n",
        "plt.show()\n",
        "\n",
        "#plt.savefig(\"Population_fit.png\", bbox_inches='tight')\n",
        "#files.download(\"Population_fit.png\") "
      ],
      "metadata": {
        "colab": {
          "base_uri": "https://localhost:8080/",
          "height": 296
        },
        "id": "y6sab4RwUjnW",
        "outputId": "99468b8e-706f-4fec-9cdd-6713f2fff47a"
      },
      "execution_count": 87,
      "outputs": [
        {
          "output_type": "display_data",
          "data": {
            "text/plain": [
              "<Figure size 432x288 with 1 Axes>"
            ],
            "image/png": "[encoded data removed]"
          },
          "metadata": {
            "needs_background": "light"
          }
        }
      ]
    },
    {
      "cell_type": "code",
      "source": [
        "# two samples from population \n",
        "\n",
        "population = np.squeeze(population)\n",
        "sample1 = np.random.choice(population, 50) # with repetition in sample\n",
        "sample2 = np.random.choice(population, 50, replace = False) # without repetitions \n",
        "# or generate random integers and use as indicis\n",
        "\n",
        "sample1_mean = np.mean(sample1)\n",
        "sample2_mean = np.mean(sample2)\n",
        "sample1_sd = np.std(sample1)\n",
        "sample2_sd = np.std(sample2)\n",
        "\n",
        "fig, ax, = plt.subplots(1,2)\n",
        "ax[0].hist( sample1, label = 'data')\n",
        "ax[1].hist(sample2, label = 'data')\n",
        "\n",
        "ax[0].plot([sample1_mean, sample1_mean] , [0, 20], color = 'lime', linewidth = 4,\n",
        "           label = 'sample mean = '+ str(round(sample1_mean,3)))\n",
        "ax[0].plot([[sample1_mean-sample1_sd, sample1_mean+sample1_sd], [sample1_mean-sample1_sd, sample1_mean+sample1_sd]] , \n",
        "           [0, 20], color = 'orangered', linewidth = 3,\n",
        "           label = 'sample sd = '+ str(round(sample1_sd,3)))\n",
        "\n",
        "ax[1].plot([sample2_mean, sample2_mean] , [0, 20], color = 'lime',linewidth = 4,\n",
        "           label = 'sample mean = '+ str(round(sample2_mean,3)))\n",
        "ax[1].plot(([sample2_mean-sample2_sd, sample2_mean+sample2_sd], [sample2_mean-sample2_sd, sample2_mean+sample2_sd]) , \n",
        "           [0, 20], color = 'orangered', linewidth = 3,\n",
        "           label = 'sample sd = '+ str(round(sample2_sd,3)))\n",
        "\n",
        "ax[0].set_title('Sample 1')\n",
        "ax[1].set_title('Sample 2')\n",
        "\n",
        "ax[0].set_xlabel('Value')\n",
        "ax[1].set_xlabel('Value')\n",
        "\n",
        "ax[0].set_ylabel('Count')\n",
        "ax[1].set_ylabel('Count')\n",
        "\n",
        "handles0, labels0 = ax[0].get_legend_handles_labels()\n",
        "handles1, labels1 = ax[1].get_legend_handles_labels()\n",
        "\n",
        "order = [0,1,2]\n",
        "ax[0].legend([handles0[idx] for idx in order],[labels0[idx] for idx in order],loc='upper left')\n",
        "ax[1].legend([handles1[idx] for idx in order],[labels1[idx] for idx in order],loc='upper left')\n",
        "\n",
        "fig.subplots_adjust(bottom=0.1, right=1.5, top=0.9)\n",
        "plt.show()\n",
        "\n",
        "#plt.savefig(\"Samples2.png\", bbox_inches='tight')\n",
        "#files.download(\"Samples2.png\") "
      ],
      "metadata": {
        "colab": {
          "base_uri": "https://localhost:8080/",
          "height": 308
        },
        "id": "CsKLxL2fg1qG",
        "outputId": "01b770c8-815a-4e9d-efb0-eb94aaeee87e"
      },
      "execution_count": 89,
      "outputs": [
        {
          "output_type": "display_data",
          "data": {
            "text/plain": [
              "<Figure size 432x288 with 2 Axes>"
            ],
            "image/png": "[encoded data removed]"
          },
          "metadata": {
            "needs_background": "light"
          }
        }
      ]
    },
    {
      "cell_type": "code",
      "source": [
        "# multiple samples\n",
        "\n",
        "samplen = np.random.choice(population, size = (50,100))\n",
        "\n",
        "meann =  np.mean(samplen, axis = 0)\n",
        "sdn =  np.std(samplen, axis = 0)\n",
        "\n",
        "mean_of_means = np.mean(meann)\n",
        "mean_of_sds = np.mean(sdn)\n",
        "\n",
        "fig, ax, = plt.subplots(1,2)\n",
        "ax[0].hist( meann, label = 'sample means')\n",
        "ax[1].hist(sdn,  label = 'sample sds')\n",
        "\n",
        "ax[0].plot([mean_of_means, mean_of_means] , [0, 20], color = 'lime', linewidth = 4,\n",
        "           label = 'mean of means = '+ str(round(mean_of_means,3)))\n",
        "ax[0].plot([population_mean , population_mean] , \n",
        "           [0, 20], color = 'green', linewidth = 4,\n",
        "           label = 'population mean = '+ str(round(population_mean,3)))\n",
        "\n",
        "ax[1].plot([mean_of_sds, mean_of_sds] , [0, 20], color = 'lime',linewidth = 4,\n",
        "           label = 'mean of sds = '+ str(round(mean_of_sds,3)))\n",
        "ax[1].plot([population_sd, population_sd] , \n",
        "           [0, 20], color = 'green', linewidth = 4,\n",
        "           label = 'population sd = '+ str(round(population_sd,3)))\n",
        "\n",
        "ax[0].set_title('Distribution of Mean Values')\n",
        "ax[1].set_title('Distribution of SD Values')\n",
        "ax[0].set_xlabel('Samples Mean Values')\n",
        "ax[1].set_xlabel('Samples SD Values')\n",
        "ax[0].set_ylabel('Count')\n",
        "ax[1].set_ylabel('Count')\n",
        "\n",
        "handles0, labels0 = ax[0].get_legend_handles_labels()\n",
        "handles1, labels1 = ax[1].get_legend_handles_labels()\n",
        "\n",
        "order = [0,1,2]\n",
        "ax[0].legend([handles0[idx] for idx in order],[labels0[idx] for idx in order],loc='upper left')\n",
        "ax[1].legend([handles1[idx] for idx in order],[labels1[idx] for idx in order],loc='upper left')\n",
        "\n",
        "fig.subplots_adjust(bottom=0.1, right=1.5, top=0.9)\n",
        "plt.show()\n",
        "\n",
        "#plt.savefig(\"Samples100.png\", bbox_inches='tight')\n",
        "#files.download(\"Samples100.png\") "
      ],
      "metadata": {
        "colab": {
          "base_uri": "https://localhost:8080/",
          "height": 308
        },
        "id": "fkQMY77zIgOI",
        "outputId": "3ec8324b-3514-4e05-eb7f-40c04d6a6dc8"
      },
      "execution_count": 90,
      "outputs": [
        {
          "output_type": "display_data",
          "data": {
            "text/plain": [
              "<IPython.core.display.Javascript object>"
            ],
            "application/javascript": [
              "\n",
              "    async function download(id, filename, size) {\n",
              "      if (!google.colab.kernel.accessAllowed) {\n",
              "        return;\n",
              "      }\n",
              "      const div = document.createElement('div');\n",
              "      const label = document.createElement('label');\n",
              "      label.textContent = `Downloading \"${filename}\": `;\n",
              "      div.appendChild(label);\n",
              "      const progress = document.createElement('progress');\n",
              "      progress.max = size;\n",
              "      div.appendChild(progress);\n",
              "      document.body.appendChild(div);\n",
              "\n",
              "      const buffers = [];\n",
              "      let downloaded = 0;\n",
              "\n",
              "      const channel = await google.colab.kernel.comms.open(id);\n",
              "      // Send a message to notify the kernel that we're ready.\n",
              "      channel.send({})\n",
              "\n",
              "      for await (const message of channel.messages) {\n",
              "        // Send a message to notify the kernel that we're ready.\n",
              "        channel.send({})\n",
              "        if (message.buffers) {\n",
              "          for (const buffer of message.buffers) {\n",
              "            buffers.push(buffer);\n",
              "            downloaded += buffer.byteLength;\n",
              "            progress.value = downloaded;\n",
              "          }\n",
              "        }\n",
              "      }\n",
              "      const blob = new Blob(buffers, {type: 'application/binary'});\n",
              "      const a = document.createElement('a');\n",
              "      a.href = window.URL.createObjectURL(blob);\n",
              "      a.download = filename;\n",
              "      div.appendChild(a);\n",
              "      a.click();\n",
              "      div.remove();\n",
              "    }\n",
              "  "
            ]
          },
          "metadata": {}
        },
        {
          "output_type": "display_data",
          "data": {
            "text/plain": [
              "<IPython.core.display.Javascript object>"
            ],
            "application/javascript": [
              "download(\"download_c91dd413-bbab-4a16-83ff-b5cf50725d52\", \"Samples100.png\", 18574)"
            ]
          },
          "metadata": {}
        },
        {
          "output_type": "display_data",
          "data": {
            "text/plain": [
              "<Figure size 432x288 with 2 Axes>"
            ],
            "image/png": "[encoded data removed]"
          },
          "metadata": {
            "needs_background": "light"
          }
        }
      ]
    },
    {
      "cell_type": "code",
      "source": [
        "# maximum example\n",
        "population_max = np.max(population)\n",
        "\n",
        "maxn =  np.max(samplen, axis = 0)\n",
        "\n",
        "mean_of_max = np.mean(maxn)\n",
        "\n",
        "plt.hist(maxn, label = 'max values')\n",
        "\n",
        "plt.plot([mean_of_max, mean_of_max] , [0, 20], color = 'lime', linewidth = 4,\n",
        "           label = 'mean of max values = '+ str(round(mean_of_means,3)))\n",
        "plt.plot([population_max , population_max] , \n",
        "           [0, 20], color = 'green', linewidth = 4,\n",
        "           label = 'population max = '+ str(round(population_max,3)))\n",
        "\n",
        "plt.title('Distribution of max values')\n",
        "plt.xlabel('Samples Max Values')\n",
        "plt.ylabel('Count')\n",
        "plt.legend(loc = 'upper right')\n",
        "\n",
        "plt.show()\n",
        "\n",
        "#plt.savefig(\"Samples100max.png\", bbox_inches='tight')\n",
        "#files.download(\"Samples100max.png\") "
      ],
      "metadata": {
        "colab": {
          "base_uri": "https://localhost:8080/",
          "height": 295
        },
        "id": "WLLNPGRZN5cy",
        "outputId": "27affcc4-c04f-4e71-9c99-a9bac12a116e"
      },
      "execution_count": 91,
      "outputs": [
        {
          "output_type": "display_data",
          "data": {
            "text/plain": [
              "<IPython.core.display.Javascript object>"
            ],
            "application/javascript": [
              "\n",
              "    async function download(id, filename, size) {\n",
              "      if (!google.colab.kernel.accessAllowed) {\n",
              "        return;\n",
              "      }\n",
              "      const div = document.createElement('div');\n",
              "      const label = document.createElement('label');\n",
              "      label.textContent = `Downloading \"${filename}\": `;\n",
              "      div.appendChild(label);\n",
              "      const progress = document.createElement('progress');\n",
              "      progress.max = size;\n",
              "      div.appendChild(progress);\n",
              "      document.body.appendChild(div);\n",
              "\n",
              "      const buffers = [];\n",
              "      let downloaded = 0;\n",
              "\n",
              "      const channel = await google.colab.kernel.comms.open(id);\n",
              "      // Send a message to notify the kernel that we're ready.\n",
              "      channel.send({})\n",
              "\n",
              "      for await (const message of channel.messages) {\n",
              "        // Send a message to notify the kernel that we're ready.\n",
              "        channel.send({})\n",
              "        if (message.buffers) {\n",
              "          for (const buffer of message.buffers) {\n",
              "            buffers.push(buffer);\n",
              "            downloaded += buffer.byteLength;\n",
              "            progress.value = downloaded;\n",
              "          }\n",
              "        }\n",
              "      }\n",
              "      const blob = new Blob(buffers, {type: 'application/binary'});\n",
              "      const a = document.createElement('a');\n",
              "      a.href = window.URL.createObjectURL(blob);\n",
              "      a.download = filename;\n",
              "      div.appendChild(a);\n",
              "      a.click();\n",
              "      div.remove();\n",
              "    }\n",
              "  "
            ]
          },
          "metadata": {}
        },
        {
          "output_type": "display_data",
          "data": {
            "text/plain": [
              "<IPython.core.display.Javascript object>"
            ],
            "application/javascript": [
              "download(\"download_1e20c288-bca0-4038-8b21-6ab04fdc0ea2\", \"Samples100max.png\", 12629)"
            ]
          },
          "metadata": {}
        },
        {
          "output_type": "display_data",
          "data": {
            "text/plain": [
              "<Figure size 432x288 with 1 Axes>"
            ],
            "image/png": "[encoded data removed]"
          },
          "metadata": {
            "needs_background": "light"
          }
        }
      ]
    },
    {
      "cell_type": "code",
      "source": [
        "# upload and read from PC/Drive\n",
        "# after running press 'Choose File' \n",
        "from google.colab import files # upload and save files\n",
        "\n",
        "uploaded = files.upload()\n",
        "\n",
        "data = pd.read_csv(io.BytesIO(uploaded['Davis.csv']))\n",
        "\n",
        "for col in data.columns: # see names of the columns in a loop\n",
        "    print(col)\n",
        "\n",
        "print(data) "
      ],
      "metadata": {
        "colab": {
          "base_uri": "https://localhost:8080/",
          "height": 438
        },
        "id": "PHtYRvIg4HYd",
        "outputId": "f303fd3a-c146-4fff-c7bb-e5f0148d4938"
      },
      "execution_count": 110,
      "outputs": [
        {
          "output_type": "display_data",
          "data": {
            "text/plain": [
              "<IPython.core.display.HTML object>"
            ],
            "text/html": [
              "\n",
              "     <input type=\"file\" id=\"files-9b618f99-b751-4987-8399-0fb98ba5a965\" name=\"files[]\" multiple disabled\n",
              "        style=\"border:none\" />\n",
              "     <output id=\"result-9b618f99-b751-4987-8399-0fb98ba5a965\">\n",
              "      Upload widget is only available when the cell has been executed in the\n",
              "      current browser session. Please rerun this cell to enable.\n",
              "      </output>\n",
              "      <script>// Copyright 2017 Google LLC\n",
              "//\n",
              "// Licensed under the Apache License, Version 2.0 (the \"License\");\n",
              "// you may not use this file except in compliance with the License.\n",
              "// You may obtain a copy of the License at\n",
              "//\n",
              "//      http://www.apache.org/licenses/LICENSE-2.0\n",
              "//\n",
              "// Unless required by applicable law or agreed to in writing, software\n",
              "// distributed under the License is distributed on an \"AS IS\" BASIS,\n",
              "// WITHOUT WARRANTIES OR CONDITIONS OF ANY KIND, either express or implied.\n",
              "// See the License for the specific language governing permissions and\n",
              "// limitations under the License.\n",
              "\n",
              "/**\n",
              " * @fileoverview Helpers for google.colab Python module.\n",
              " */\n",
              "(function(scope) {\n",
              "function span(text, styleAttributes = {}) {\n",
              "  const element = document.createElement('span');\n",
              "  element.textContent = text;\n",
              "  for (const key of Object.keys(styleAttributes)) {\n",
              "    element.style[key] = styleAttributes[key];\n",
              "  }\n",
              "  return element;\n",
              "}\n",
              "\n",
              "// Max number of bytes which will be uploaded at a time.\n",
              "const MAX_PAYLOAD_SIZE = 100 * 1024;\n",
              "\n",
              "function _uploadFiles(inputId, outputId) {\n",
              "  const steps = uploadFilesStep(inputId, outputId);\n",
              "  const outputElement = document.getElementById(outputId);\n",
              "  // Cache steps on the outputElement to make it available for the next call\n",
              "  // to uploadFilesContinue from Python.\n",
              "  outputElement.steps = steps;\n",
              "\n",
              "  return _uploadFilesContinue(outputId);\n",
              "}\n",
              "\n",
              "// This is roughly an async generator (not supported in the browser yet),\n",
              "// where there are multiple asynchronous steps and the Python side is going\n",
              "// to poll for completion of each step.\n",
              "// This uses a Promise to block the python side on completion of each step,\n",
              "// then passes the result of the previous step as the input to the next step.\n",
              "function _uploadFilesContinue(outputId) {\n",
              "  const outputElement = document.getElementById(outputId);\n",
              "  const steps = outputElement.steps;\n",
              "\n",
              "  const next = steps.next(outputElement.lastPromiseValue);\n",
              "  return Promise.resolve(next.value.promise).then((value) => {\n",
              "    // Cache the last promise value to make it available to the next\n",
              "    // step of the generator.\n",
              "    outputElement.lastPromiseValue = value;\n",
              "    return next.value.response;\n",
              "  });\n",
              "}\n",
              "\n",
              "/**\n",
              " * Generator function which is called between each async step of the upload\n",
              " * process.\n",
              " * @param {string} inputId Element ID of the input file picker element.\n",
              " * @param {string} outputId Element ID of the output display.\n",
              " * @return {!Iterable<!Object>} Iterable of next steps.\n",
              " */\n",
              "function* uploadFilesStep(inputId, outputId) {\n",
              "  const inputElement = document.getElementById(inputId);\n",
              "  inputElement.disabled = false;\n",
              "\n",
              "  const outputElement = document.getElementById(outputId);\n",
              "  outputElement.innerHTML = '';\n",
              "\n",
              "  const pickedPromise = new Promise((resolve) => {\n",
              "    inputElement.addEventListener('change', (e) => {\n",
              "      resolve(e.target.files);\n",
              "    });\n",
              "  });\n",
              "\n",
              "  const cancel = document.createElement('button');\n",
              "  inputElement.parentElement.appendChild(cancel);\n",
              "  cancel.textContent = 'Cancel upload';\n",
              "  const cancelPromise = new Promise((resolve) => {\n",
              "    cancel.onclick = () => {\n",
              "      resolve(null);\n",
              "    };\n",
              "  });\n",
              "\n",
              "  // Wait for the user to pick the files.\n",
              "  const files = yield {\n",
              "    promise: Promise.race([pickedPromise, cancelPromise]),\n",
              "    response: {\n",
              "      action: 'starting',\n",
              "    }\n",
              "  };\n",
              "\n",
              "  cancel.remove();\n",
              "\n",
              "  // Disable the input element since further picks are not allowed.\n",
              "  inputElement.disabled = true;\n",
              "\n",
              "  if (!files) {\n",
              "    return {\n",
              "      response: {\n",
              "        action: 'complete',\n",
              "      }\n",
              "    };\n",
              "  }\n",
              "\n",
              "  for (const file of files) {\n",
              "    const li = document.createElement('li');\n",
              "    li.append(span(file.name, {fontWeight: 'bold'}));\n",
              "    li.append(span(\n",
              "        `(${file.type || 'n/a'}) - ${file.size} bytes, ` +\n",
              "        `last modified: ${\n",
              "            file.lastModifiedDate ? file.lastModifiedDate.toLocaleDateString() :\n",
              "                                    'n/a'} - `));\n",
              "    const percent = span('0% done');\n",
              "    li.appendChild(percent);\n",
              "\n",
              "    outputElement.appendChild(li);\n",
              "\n",
              "    const fileDataPromise = new Promise((resolve) => {\n",
              "      const reader = new FileReader();\n",
              "      reader.onload = (e) => {\n",
              "        resolve(e.target.result);\n",
              "      };\n",
              "      reader.readAsArrayBuffer(file);\n",
              "    });\n",
              "    // Wait for the data to be ready.\n",
              "    let fileData = yield {\n",
              "      promise: fileDataPromise,\n",
              "      response: {\n",
              "        action: 'continue',\n",
              "      }\n",
              "    };\n",
              "\n",
              "    // Use a chunked sending to avoid message size limits. See b/62115660.\n",
              "    let position = 0;\n",
              "    do {\n",
              "      const length = Math.min(fileData.byteLength - position, MAX_PAYLOAD_SIZE);\n",
              "      const chunk = new Uint8Array(fileData, position, length);\n",
              "      position += length;\n",
              "\n",
              "      const base64 = btoa(String.fromCharCode.apply(null, chunk));\n",
              "      yield {\n",
              "        response: {\n",
              "          action: 'append',\n",
              "          file: file.name,\n",
              "          data: base64,\n",
              "        },\n",
              "      };\n",
              "\n",
              "      let percentDone = fileData.byteLength === 0 ?\n",
              "          100 :\n",
              "          Math.round((position / fileData.byteLength) * 100);\n",
              "      percent.textContent = `${percentDone}% done`;\n",
              "\n",
              "    } while (position < fileData.byteLength);\n",
              "  }\n",
              "\n",
              "  // All done.\n",
              "  yield {\n",
              "    response: {\n",
              "      action: 'complete',\n",
              "    }\n",
              "  };\n",
              "}\n",
              "\n",
              "scope.google = scope.google || {};\n",
              "scope.google.colab = scope.google.colab || {};\n",
              "scope.google.colab._files = {\n",
              "  _uploadFiles,\n",
              "  _uploadFilesContinue,\n",
              "};\n",
              "})(self);\n",
              "</script> "
            ]
          },
          "metadata": {}
        },
        {
          "output_type": "stream",
          "name": "stdout",
          "text": [
            "Saving Davis.csv to Davis (1).csv\n",
            "subject\n",
            "sex\n",
            "weight\n",
            "height\n",
            "repwt\n",
            "repht\n",
            "     subject sex  weight  height  repwt  repht\n",
            "0          1   M      77     182   77.0  180.0\n",
            "1          2   F      58     161   51.0  159.0\n",
            "2          3   F      53     161   54.0  158.0\n",
            "3          4   M      68     177   70.0  175.0\n",
            "4          5   F      59     157   59.0  155.0\n",
            "..       ...  ..     ...     ...    ...    ...\n",
            "195      196   M      74     175   71.0  175.0\n",
            "196      197   M      83     180   80.0  180.0\n",
            "197      198   M      81     175    NaN    NaN\n",
            "198      199   M      90     181   91.0  178.0\n",
            "199      200   M      79     177   81.0  178.0\n",
            "\n",
            "[200 rows x 6 columns]\n"
          ]
        }
      ]
    },
    {
      "cell_type": "code",
      "source": [
        "# upload via url from GiHub\n",
        "\n",
        "url = 'https://raw.githubusercontent.com/opherdonchin/StatisticalComputationAndAnalysis/main/Data/Davis.csv'\n",
        "data = pd.read_csv(url)\n",
        "\n",
        "for col in data.columns:\n",
        "    print(col)\n",
        "\n",
        "print(data)"
      ],
      "metadata": {
        "colab": {
          "base_uri": "https://localhost:8080/"
        },
        "id": "SrQayOV5XZ0I",
        "outputId": "d83978e5-557f-4e23-f174-f2eebaac1591"
      },
      "execution_count": 2,
      "outputs": [
        {
          "output_type": "stream",
          "name": "stdout",
          "text": [
            "subject\n",
            "sex\n",
            "weight\n",
            "height\n",
            "repwt\n",
            "repht\n",
            "     subject sex  weight  height  repwt  repht\n",
            "0          1   M      77     182   77.0  180.0\n",
            "1          2   F      58     161   51.0  159.0\n",
            "2          3   F      53     161   54.0  158.0\n",
            "3          4   M      68     177   70.0  175.0\n",
            "4          5   F      59     157   59.0  155.0\n",
            "..       ...  ..     ...     ...    ...    ...\n",
            "195      196   M      74     175   71.0  175.0\n",
            "196      197   M      83     180   80.0  180.0\n",
            "197      198   M      81     175    NaN    NaN\n",
            "198      199   M      90     181   91.0  178.0\n",
            "199      200   M      79     177   81.0  178.0\n",
            "\n",
            "[200 rows x 6 columns]\n"
          ]
        }
      ]
    },
    {
      "cell_type": "code",
      "source": [
        "# plot data\n",
        "\n",
        "# sum(data.sex == 'M')\n",
        "# sum(data.sex == 'F')\n",
        "\n",
        "weight = data.weight\n",
        "height = data.height\n",
        "num_bins, bin_width = 20, 0.8\n",
        "\n",
        "fig , ax = plt.subplots(2, 2)\n",
        "ax[0,0].hist(weight, bins = num_bins, rwidth = bin_width)\n",
        "ax[0,1].hist(height, bins = num_bins, rwidth = bin_width)\n",
        "\n",
        "ax[0,0].set_title('Weight')\n",
        "ax[0,1].set_title('Height')\n",
        "\n",
        "ax[0,0].set_ylabel('Number of students')\n",
        "\n",
        "\n",
        "weight_f = data.weight[data.sex == 'F']\n",
        "weight_m = data.weight[data.sex == 'M']\n",
        "\n",
        "height_f = height[data.sex == 'F']\n",
        "height_m = height[data.sex == 'M']\n",
        "\n",
        "bin_edges = np.arange(30,130,10)\n",
        "alpha, histtype = 0.6, 'stepfilled'\n",
        "\n",
        "ax[1,0].hist(weight_f, bins = bin_edges, rwidth = bin_width, label = 'female', alpha = alpha, histtype=histtype)\n",
        "ax[1,1].hist(height_f, bins = 20, rwidth = 0.8, label = 'female', alpha = 0.8)\n",
        "ax[1,0].hist(weight_m, bins = bin_edges, rwidth = bin_width, label = 'male', alpha = alpha, histtype=histtype)\n",
        "ax[1,1].hist(height_m, bins = 20, rwidth = 0.8, label = 'male', alpha = 0.6)\n",
        "\n",
        "ax[1,0].set_xlabel('weight [kg]')\n",
        "ax[1,1].set_xlabel('height [cm]')\n",
        "\n",
        "ax[1,0].set_ylabel('Number of students')\n",
        "\n",
        "ax[1,0].legend(loc='upper right')\n",
        "ax[1,1].legend(loc='upper right')\n",
        "\n",
        "plt.subplots_adjust(bottom=0.1, right=1.5, top=1.5)\n",
        "\n",
        "plt.show()\n",
        "\n",
        "#plt.savefig(\"height_weight.png\", bbox_inches='tight')\n",
        "#files.download(\"height_weight.png\") "
      ],
      "metadata": {
        "colab": {
          "base_uri": "https://localhost:8080/",
          "height": 481
        },
        "id": "A7nH7sUwSZ9E",
        "outputId": "caec06b3-9c49-4aa4-8030-006bd326616d"
      },
      "execution_count": 116,
      "outputs": [
        {
          "output_type": "display_data",
          "data": {
            "text/plain": [
              "<Figure size 432x288 with 4 Axes>"
            ],
            "image/png": "[encoded data removed]"
          },
          "metadata": {
            "needs_background": "light"
          }
        },
        {
          "output_type": "display_data",
          "data": {
            "text/plain": [
              "<IPython.core.display.Javascript object>"
            ],
            "application/javascript": [
              "\n",
              "    async function download(id, filename, size) {\n",
              "      if (!google.colab.kernel.accessAllowed) {\n",
              "        return;\n",
              "      }\n",
              "      const div = document.createElement('div');\n",
              "      const label = document.createElement('label');\n",
              "      label.textContent = `Downloading \"${filename}\": `;\n",
              "      div.appendChild(label);\n",
              "      const progress = document.createElement('progress');\n",
              "      progress.max = size;\n",
              "      div.appendChild(progress);\n",
              "      document.body.appendChild(div);\n",
              "\n",
              "      const buffers = [];\n",
              "      let downloaded = 0;\n",
              "\n",
              "      const channel = await google.colab.kernel.comms.open(id);\n",
              "      // Send a message to notify the kernel that we're ready.\n",
              "      channel.send({})\n",
              "\n",
              "      for await (const message of channel.messages) {\n",
              "        // Send a message to notify the kernel that we're ready.\n",
              "        channel.send({})\n",
              "        if (message.buffers) {\n",
              "          for (const buffer of message.buffers) {\n",
              "            buffers.push(buffer);\n",
              "            downloaded += buffer.byteLength;\n",
              "            progress.value = downloaded;\n",
              "          }\n",
              "        }\n",
              "      }\n",
              "      const blob = new Blob(buffers, {type: 'application/binary'});\n",
              "      const a = document.createElement('a');\n",
              "      a.href = window.URL.createObjectURL(blob);\n",
              "      a.download = filename;\n",
              "      div.appendChild(a);\n",
              "      a.click();\n",
              "      div.remove();\n",
              "    }\n",
              "  "
            ]
          },
          "metadata": {}
        },
        {
          "output_type": "display_data",
          "data": {
            "text/plain": [
              "<IPython.core.display.Javascript object>"
            ],
            "application/javascript": [
              "download(\"download_a64ac92d-889b-411a-b524-254b530fe1d1\", \"height_weight.png\", 17340)"
            ]
          },
          "metadata": {}
        }
      ]
    },
    {
      "cell_type": "code",
      "source": [
        "# height data + mean + sd\n",
        "\n",
        "height_f_mean = height_f.mean()\n",
        "height_m_mean = height_m.mean()\n",
        "\n",
        "height_f_sd = height_f.std()\n",
        "height_m_sd = height_m.std()\n",
        "\n",
        "bin_num, bin_width, label_data, transp = 20, 0.8, 'data', 0.8\n",
        "\n",
        "range_y, range_x, mean_c, mean_lw = [0, 20],[145, 200],'darkred', 4\n",
        "sd_c, sd_lw, fs = 'palevioletred', 2, 15\n",
        "\n",
        "fig , ax = plt.subplots(1, 2)\n",
        "ax[0].hist(height_f, bins = bin_num, rwidth = bin_width, label = label_data, alpha = transp)\n",
        "ax[1].hist(height_m, bins = bin_num, rwidth = bin_width, label = label_data, alpha = transp)\n",
        "\n",
        "ax[0].plot( [height_f_mean, height_f_mean] , range_y, color = mean_c, linewidth = mean_lw, \n",
        "           label = 'mean = '+ str(round(height_f_mean,2)))\n",
        "ax[1].plot( [height_m_mean, height_m_mean] , range_y, color = mean_c, linewidth = mean_lw, \n",
        "           label = 'mean = '+ str(round(height_m_mean,2)))\n",
        "\n",
        "ax[0].plot( [height_f_mean-height_f_sd, height_f_mean-height_f_sd] , range_y, color = sd_c, \n",
        "           linewidth = sd_lw, label = 'mean \\u00B1 sd. sd = '+ str(round(height_f_sd,2)))\n",
        "ax[1].plot( [height_m_mean-height_m_sd, height_m_mean-height_m_sd] , range_y, color = sd_c, \n",
        "           linewidth = sd_lw, label = 'mean \\u00B1 sd. sd = '+ str(round(height_m_sd,2)))\n",
        "\n",
        "ax[0].plot( [height_f_mean+height_f_sd, height_f_mean+height_f_sd] ,range_y, color = sd_c, \n",
        "           linewidth = sd_lw)\n",
        "ax[1].plot( [height_m_mean+height_m_sd, height_m_mean+height_m_sd] , range_y, color = sd_c, \n",
        "           linewidth = sd_lw)\n",
        "\n",
        "ax[0].set_ylim(range_y)\n",
        "ax[1].set_ylim(range_y)\n",
        "ax[0].set_xlim(range_x)\n",
        "ax[1].set_xlim(range_x)\n",
        "\n",
        "ax[0].set_ylabel('Count')\n",
        "ax[0].set_xlabel('height [cm]')\n",
        "ax[1].set_xlabel('height [cm]')\n",
        "ax[0].set_title('Height Female. N('+str(round(height_f_mean,1))+' , '+str(round(height_f_sd,1))+')', fontsize = fs)\n",
        "ax[1].set_title('Height Male. N('+str(round(height_m_mean,1))+' , '+str(round(height_m_sd,1))+')', fontsize = fs)\n",
        "\n",
        "order = [0,1,2]\n",
        "handles0, labels0 = ax[0].get_legend_handles_labels()\n",
        "handles1, labels1 = ax[1].get_legend_handles_labels()\n",
        "\n",
        "ax[0].legend([handles0[idx] for idx in order],[labels0[idx] for idx in order],loc='upper right')\n",
        "ax[1].legend([handles1[idx] for idx in order],[labels1[idx] for idx in order],loc='upper left')\n",
        "\n",
        "plt.subplots_adjust(bottom=0.1, right=1.5, top=0.9)\n",
        "plt.show()\n",
        "\n",
        "#plt.savefig(\"height_separate.png\", bbox_inches='tight')\n",
        "#files.download(\"height_separate.png\") "
      ],
      "metadata": {
        "colab": {
          "base_uri": "https://localhost:8080/",
          "height": 310
        },
        "id": "4lqczDgyJ8KX",
        "outputId": "b928c537-7131-42f2-f90d-03b1a56fd603"
      },
      "execution_count": 121,
      "outputs": [
        {
          "output_type": "display_data",
          "data": {
            "text/plain": [
              "<IPython.core.display.Javascript object>"
            ],
            "application/javascript": [
              "\n",
              "    async function download(id, filename, size) {\n",
              "      if (!google.colab.kernel.accessAllowed) {\n",
              "        return;\n",
              "      }\n",
              "      const div = document.createElement('div');\n",
              "      const label = document.createElement('label');\n",
              "      label.textContent = `Downloading \"${filename}\": `;\n",
              "      div.appendChild(label);\n",
              "      const progress = document.createElement('progress');\n",
              "      progress.max = size;\n",
              "      div.appendChild(progress);\n",
              "      document.body.appendChild(div);\n",
              "\n",
              "      const buffers = [];\n",
              "      let downloaded = 0;\n",
              "\n",
              "      const channel = await google.colab.kernel.comms.open(id);\n",
              "      // Send a message to notify the kernel that we're ready.\n",
              "      channel.send({})\n",
              "\n",
              "      for await (const message of channel.messages) {\n",
              "        // Send a message to notify the kernel that we're ready.\n",
              "        channel.send({})\n",
              "        if (message.buffers) {\n",
              "          for (const buffer of message.buffers) {\n",
              "            buffers.push(buffer);\n",
              "            downloaded += buffer.byteLength;\n",
              "            progress.value = downloaded;\n",
              "          }\n",
              "        }\n",
              "      }\n",
              "      const blob = new Blob(buffers, {type: 'application/binary'});\n",
              "      const a = document.createElement('a');\n",
              "      a.href = window.URL.createObjectURL(blob);\n",
              "      a.download = filename;\n",
              "      div.appendChild(a);\n",
              "      a.click();\n",
              "      div.remove();\n",
              "    }\n",
              "  "
            ]
          },
          "metadata": {}
        },
        {
          "output_type": "display_data",
          "data": {
            "text/plain": [
              "<IPython.core.display.Javascript object>"
            ],
            "application/javascript": [
              "download(\"download_5ce79e80-c6d8-46cc-a885-034c6d2f5efe\", \"height_separate.png\", 15460)"
            ]
          },
          "metadata": {}
        },
        {
          "output_type": "display_data",
          "data": {
            "text/plain": [
              "<Figure size 432x288 with 2 Axes>"
            ],
            "image/png": "[encoded data removed]"
          },
          "metadata": {
            "needs_background": "light"
          }
        }
      ]
    },
    {
      "cell_type": "code",
      "source": [
        "# plot histogram + fit\n",
        "\n",
        "fig , ax = plt.subplots(1, 2)\n",
        "ax[0].hist(height_f, bins = bin_num, rwidth = bin_width, alpha = transp, density = True)\n",
        "ax[1].hist(height_m, bins = bin_num, rwidth = bin_width, alpha = transp, density = True)\n",
        "\n",
        "pdf_f = stats.norm.pdf(np.linspace(140, 200, 100), height_f_mean, height_f_sd)\n",
        "ax[0].plot(np.linspace(140, 200, 100), pdf_f, color = 'red', lw = 3)\n",
        "\n",
        "pdf_m = stats.norm.pdf(np.linspace(140, 200, 100), height_m_mean, height_m_sd)\n",
        "ax[1].plot(np.linspace(140, 200, 100), pdf_m, color = 'red', lw = 3)\n",
        "\n",
        "ax[0].set_ylabel('Density')\n",
        "ax[0].set_xlabel('height [cm]')\n",
        "ax[1].set_xlabel('height [cm]')\n",
        "ax[0].set_title('Height Female. N('+str(round(height_f_mean,1))+' , '+str(round(height_f_sd,1))+')', fontsize = fs)\n",
        "ax[1].set_title('Height Male. N('+str(round(height_m_mean,1))+' , '+str(round(height_m_sd,1))+')', fontsize = fs)\n",
        "\n",
        "plt.subplots_adjust(bottom=0.1, right=1.5, top=0.9)\n",
        "plt.show()\n",
        "\n",
        "#plt.savefig(\"height_fit.png\", bbox_inches='tight')\n",
        "#files.download(\"height_fit.png\") \n"
      ],
      "metadata": {
        "colab": {
          "base_uri": "https://localhost:8080/",
          "height": 310
        },
        "id": "gHcy5TJz5-uI",
        "outputId": "bc9083e2-9ab5-486a-bf8d-55958b9554bb"
      },
      "execution_count": 124,
      "outputs": [
        {
          "output_type": "display_data",
          "data": {
            "text/plain": [
              "<IPython.core.display.Javascript object>"
            ],
            "application/javascript": [
              "\n",
              "    async function download(id, filename, size) {\n",
              "      if (!google.colab.kernel.accessAllowed) {\n",
              "        return;\n",
              "      }\n",
              "      const div = document.createElement('div');\n",
              "      const label = document.createElement('label');\n",
              "      label.textContent = `Downloading \"${filename}\": `;\n",
              "      div.appendChild(label);\n",
              "      const progress = document.createElement('progress');\n",
              "      progress.max = size;\n",
              "      div.appendChild(progress);\n",
              "      document.body.appendChild(div);\n",
              "\n",
              "      const buffers = [];\n",
              "      let downloaded = 0;\n",
              "\n",
              "      const channel = await google.colab.kernel.comms.open(id);\n",
              "      // Send a message to notify the kernel that we're ready.\n",
              "      channel.send({})\n",
              "\n",
              "      for await (const message of channel.messages) {\n",
              "        // Send a message to notify the kernel that we're ready.\n",
              "        channel.send({})\n",
              "        if (message.buffers) {\n",
              "          for (const buffer of message.buffers) {\n",
              "            buffers.push(buffer);\n",
              "            downloaded += buffer.byteLength;\n",
              "            progress.value = downloaded;\n",
              "          }\n",
              "        }\n",
              "      }\n",
              "      const blob = new Blob(buffers, {type: 'application/binary'});\n",
              "      const a = document.createElement('a');\n",
              "      a.href = window.URL.createObjectURL(blob);\n",
              "      a.download = filename;\n",
              "      div.appendChild(a);\n",
              "      a.click();\n",
              "      div.remove();\n",
              "    }\n",
              "  "
            ]
          },
          "metadata": {}
        },
        {
          "output_type": "display_data",
          "data": {
            "text/plain": [
              "<IPython.core.display.Javascript object>"
            ],
            "application/javascript": [
              "download(\"download_f4161d98-c020-4a48-919c-15dd162b0bac\", \"height_fit.png\", 20581)"
            ]
          },
          "metadata": {}
        },
        {
          "output_type": "display_data",
          "data": {
            "text/plain": [
              "<Figure size 432x288 with 2 Axes>"
            ],
            "image/png": "[encoded data removed]"
          },
          "metadata": {
            "needs_background": "light"
          }
        }
      ]
    },
    {
      "cell_type": "code",
      "source": [
        "# example - neuron activity (number of spikes per second)\n",
        "\n",
        "url = 'https://raw.githubusercontent.com/opherdonchin/StatisticalComputationAndAnalysis/main/Data/numSpikes.csv'\n",
        "data = pd.read_csv(url)\n",
        "\n",
        "print(data)\n",
        "\n",
        "#data.shape"
      ],
      "metadata": {
        "colab": {
          "base_uri": "https://localhost:8080/"
        },
        "id": "SoShPhEv91W-",
        "outputId": "df48aa95-a461-4127-d5c6-a1f7681b7b11"
      },
      "execution_count": 3,
      "outputs": [
        {
          "output_type": "stream",
          "name": "stdout",
          "text": [
            "     numSpikes\n",
            "0            1\n",
            "1            1\n",
            "2            0\n",
            "3            3\n",
            "4            1\n",
            "..         ...\n",
            "115          1\n",
            "116          2\n",
            "117          3\n",
            "118          7\n",
            "119          0\n",
            "\n",
            "[120 rows x 1 columns]\n"
          ]
        }
      ]
    },
    {
      "cell_type": "code",
      "source": [
        "# histogram\n",
        "\n",
        "numSpikes = data.numSpikes\n",
        "\n",
        "plt.hist(numSpikes, bins = 50)\n",
        "plt.title('Number of Spikes per Second')\n",
        "plt.xlabel('number of spikes per second')\n",
        "plt.ylabel('count (number of seconds)')\n",
        "plt.plot([np.mean(numSpikes), np.mean(numSpikes)], [0, 26], color = 'lime', linewidth = 3, \n",
        "         label = 'mean = %.4f' % (np.mean(numSpikes)))\n",
        "plt.legend(loc = 'upper right')\n",
        "\n",
        "plt.show()\n",
        "#plt.savefig(\"spikes_hist.png\", bbox_inches='tight')\n",
        "#files.download(\"spikes_hist.png\") "
      ],
      "metadata": {
        "colab": {
          "base_uri": "https://localhost:8080/",
          "height": 295
        },
        "id": "jVmKw8QS_AP5",
        "outputId": "dc11ecc2-19e7-4d68-b619-ef7198646651"
      },
      "execution_count": 4,
      "outputs": [
        {
          "output_type": "display_data",
          "data": {
            "text/plain": [
              "<Figure size 432x288 with 1 Axes>"
            ],
            "image/png": "[encoded data removed]"
          },
          "metadata": {
            "needs_background": "light"
          }
        }
      ]
    },
    {
      "cell_type": "code",
      "source": [
        "\n",
        "mu, std = stats.norm.fit(numSpikes)\n",
        "\n",
        "plt.hist(numSpikes, bins=np.arange(13)-0.5, rwidth = 0.2, density = True, label = 'data')\n",
        "\n",
        "x = np.linspace(-1, 15, 100)\n",
        "p = stats.norm.pdf(x, mu, std)\n",
        "plt.plot(x, p, 'lime', linewidth=3, label = 'Normal Distribution Fit')\n",
        "title = \"N ( mu = %.2f , std = %.2f )\" % (mu, std)\n",
        "plt.title(title)\n",
        "plt.xlabel('number of spikes per second')\n",
        "plt.ylabel('density')\n",
        "plt.legend(loc = 'upper right')\n",
        "\n",
        "plt.show()\n",
        "#plt.savefig(\"spikes_fitnorm.png\", bbox_inches='tight')\n",
        "#files.download(\"spikes_fitnorm.png\") "
      ],
      "metadata": {
        "colab": {
          "base_uri": "https://localhost:8080/",
          "height": 295
        },
        "id": "I1ceqBGCAJS9",
        "outputId": "498f421f-1540-44f6-a9cb-d92a8150b398"
      },
      "execution_count": 5,
      "outputs": [
        {
          "output_type": "display_data",
          "data": {
            "text/plain": [
              "<IPython.core.display.Javascript object>"
            ],
            "application/javascript": [
              "\n",
              "    async function download(id, filename, size) {\n",
              "      if (!google.colab.kernel.accessAllowed) {\n",
              "        return;\n",
              "      }\n",
              "      const div = document.createElement('div');\n",
              "      const label = document.createElement('label');\n",
              "      label.textContent = `Downloading \"${filename}\": `;\n",
              "      div.appendChild(label);\n",
              "      const progress = document.createElement('progress');\n",
              "      progress.max = size;\n",
              "      div.appendChild(progress);\n",
              "      document.body.appendChild(div);\n",
              "\n",
              "      const buffers = [];\n",
              "      let downloaded = 0;\n",
              "\n",
              "      const channel = await google.colab.kernel.comms.open(id);\n",
              "      // Send a message to notify the kernel that we're ready.\n",
              "      channel.send({})\n",
              "\n",
              "      for await (const message of channel.messages) {\n",
              "        // Send a message to notify the kernel that we're ready.\n",
              "        channel.send({})\n",
              "        if (message.buffers) {\n",
              "          for (const buffer of message.buffers) {\n",
              "            buffers.push(buffer);\n",
              "            downloaded += buffer.byteLength;\n",
              "            progress.value = downloaded;\n",
              "          }\n",
              "        }\n",
              "      }\n",
              "      const blob = new Blob(buffers, {type: 'application/binary'});\n",
              "      const a = document.createElement('a');\n",
              "      a.href = window.URL.createObjectURL(blob);\n",
              "      a.download = filename;\n",
              "      div.appendChild(a);\n",
              "      a.click();\n",
              "      div.remove();\n",
              "    }\n",
              "  "
            ]
          },
          "metadata": {}
        },
        {
          "output_type": "display_data",
          "data": {
            "text/plain": [
              "<IPython.core.display.Javascript object>"
            ],
            "application/javascript": [
              "download(\"download_510e9945-989c-4346-8823-ee94643810bf\", \"spikes_fitnorm.png\", 14126)"
            ]
          },
          "metadata": {}
        },
        {
          "output_type": "display_data",
          "data": {
            "text/plain": [
              "<Figure size 432x288 with 1 Axes>"
            ],
            "image/png": "[encoded data removed]"
          },
          "metadata": {
            "needs_background": "light"
          }
        }
      ]
    },
    {
      "cell_type": "code",
      "source": [
        "lamda = np.mean(numSpikes)\n",
        "\n",
        "plt.hist(numSpikes, bins=np.arange(13)-0.5, rwidth = 0.2, density = True, label = 'data')\n",
        "\n",
        "x = np.arange(0, 15, 1)\n",
        "p = stats.poisson.pmf(x, lamda)\n",
        "plt.plot(x, p, 'lime', linewidth=3, label = 'Poisson Distribution Fit')\n",
        "title = \"Poisson ( lambda = %.2f )\" % (lamda)\n",
        "plt.title(title)\n",
        "plt.xlabel('number of spikes per second')\n",
        "plt.ylabel('density')\n",
        "plt.legend(loc = 'upper right')\n",
        "\n",
        "plt.show()\n",
        "#plt.savefig(\"spikes_fitpois.png\", bbox_inches='tight')\n",
        "#files.download(\"spikes_fitpois.png\") "
      ],
      "metadata": {
        "colab": {
          "base_uri": "https://localhost:8080/",
          "height": 295
        },
        "id": "4qGKrAZLBRai",
        "outputId": "6b0a3d3f-84b1-45d1-dd1c-b7f7482c60b9"
      },
      "execution_count": 6,
      "outputs": [
        {
          "output_type": "display_data",
          "data": {
            "text/plain": [
              "<IPython.core.display.Javascript object>"
            ],
            "application/javascript": [
              "\n",
              "    async function download(id, filename, size) {\n",
              "      if (!google.colab.kernel.accessAllowed) {\n",
              "        return;\n",
              "      }\n",
              "      const div = document.createElement('div');\n",
              "      const label = document.createElement('label');\n",
              "      label.textContent = `Downloading \"${filename}\": `;\n",
              "      div.appendChild(label);\n",
              "      const progress = document.createElement('progress');\n",
              "      progress.max = size;\n",
              "      div.appendChild(progress);\n",
              "      document.body.appendChild(div);\n",
              "\n",
              "      const buffers = [];\n",
              "      let downloaded = 0;\n",
              "\n",
              "      const channel = await google.colab.kernel.comms.open(id);\n",
              "      // Send a message to notify the kernel that we're ready.\n",
              "      channel.send({})\n",
              "\n",
              "      for await (const message of channel.messages) {\n",
              "        // Send a message to notify the kernel that we're ready.\n",
              "        channel.send({})\n",
              "        if (message.buffers) {\n",
              "          for (const buffer of message.buffers) {\n",
              "            buffers.push(buffer);\n",
              "            downloaded += buffer.byteLength;\n",
              "            progress.value = downloaded;\n",
              "          }\n",
              "        }\n",
              "      }\n",
              "      const blob = new Blob(buffers, {type: 'application/binary'});\n",
              "      const a = document.createElement('a');\n",
              "      a.href = window.URL.createObjectURL(blob);\n",
              "      a.download = filename;\n",
              "      div.appendChild(a);\n",
              "      a.click();\n",
              "      div.remove();\n",
              "    }\n",
              "  "
            ]
          },
          "metadata": {}
        },
        {
          "output_type": "display_data",
          "data": {
            "text/plain": [
              "<IPython.core.display.Javascript object>"
            ],
            "application/javascript": [
              "download(\"download_45dd1245-5aa3-4ccd-9644-53f2fd518fc6\", \"spikes_fitpois.png\", 14741)"
            ]
          },
          "metadata": {}
        },
        {
          "output_type": "display_data",
          "data": {
            "text/plain": [
              "<Figure size 432x288 with 1 Axes>"
            ],
            "image/png": "[encoded data removed]"
          },
          "metadata": {
            "needs_background": "light"
          }
        }
      ]
    }
  ]
}